{
 "cells": [
  {
   "cell_type": "code",
   "execution_count": 1,
   "metadata": {},
   "outputs": [],
   "source": [
    "import numpy as np\n",
    "import pandas as pd\n"
   ]
  },
  {
   "cell_type": "markdown",
   "metadata": {},
   "source": [
    "- **EDA**\n",
    "    - Data Loading\n",
    "    - Dtype check\n",
    "    - Missing value check\n",
    "    - null value check\n",
    "    - unique value check\n",
    "    - drop duplicate\n",
    "    - drop null value\n",
    "    - check for outliers\n",
    "    - check for correlation\n",
    "- **Modeling**\n",
    "    - data prep\n",
    "    - model selection\n",
    "        - baseline model based on the task\n",
    "    - model training on train data\n",
    "    - model evaluation on test data \n"
   ]
  },
  {
   "cell_type": "code",
   "execution_count": 38,
   "metadata": {},
   "outputs": [],
   "source": [
    "pd.set_option('display.max_columns', 200)"
   ]
  },
  {
   "cell_type": "code",
   "execution_count": 2,
   "metadata": {},
   "outputs": [],
   "source": [
    "# load data\n",
    "binary_data = pd.read_csv('../data/Ethos_Binary.csv', delimiter=';')\n",
    "multilabel_data  = pd.read_csv('../data/Ethos_Multi_Label.csv', delimiter=';')"
   ]
  },
  {
   "cell_type": "code",
   "execution_count": 3,
   "metadata": {},
   "outputs": [
    {
     "data": {
      "text/html": [
       "<div>\n",
       "<style scoped>\n",
       "    .dataframe tbody tr th:only-of-type {\n",
       "        vertical-align: middle;\n",
       "    }\n",
       "\n",
       "    .dataframe tbody tr th {\n",
       "        vertical-align: top;\n",
       "    }\n",
       "\n",
       "    .dataframe thead th {\n",
       "        text-align: right;\n",
       "    }\n",
       "</style>\n",
       "<table border=\"1\" class=\"dataframe\">\n",
       "  <thead>\n",
       "    <tr style=\"text-align: right;\">\n",
       "      <th></th>\n",
       "      <th>comment</th>\n",
       "      <th>isHate</th>\n",
       "    </tr>\n",
       "  </thead>\n",
       "  <tbody>\n",
       "    <tr>\n",
       "      <th>0</th>\n",
       "      <td>You should know women's sports are a joke</td>\n",
       "      <td>1.0</td>\n",
       "    </tr>\n",
       "    <tr>\n",
       "      <th>1</th>\n",
       "      <td>You look like Sloth with deeper Down’s syndrome</td>\n",
       "      <td>1.0</td>\n",
       "    </tr>\n",
       "    <tr>\n",
       "      <th>2</th>\n",
       "      <td>You look like Russian and speak like Indian. B...</td>\n",
       "      <td>1.0</td>\n",
       "    </tr>\n",
       "    <tr>\n",
       "      <th>3</th>\n",
       "      <td>Women deserve to be abused, I guess.</td>\n",
       "      <td>1.0</td>\n",
       "    </tr>\n",
       "    <tr>\n",
       "      <th>4</th>\n",
       "      <td>Women are made for making babies and cooking d...</td>\n",
       "      <td>1.0</td>\n",
       "    </tr>\n",
       "  </tbody>\n",
       "</table>\n",
       "</div>"
      ],
      "text/plain": [
       "                                             comment  isHate\n",
       "0          You should know women's sports are a joke     1.0\n",
       "1    You look like Sloth with deeper Down’s syndrome     1.0\n",
       "2  You look like Russian and speak like Indian. B...     1.0\n",
       "3               Women deserve to be abused, I guess.     1.0\n",
       "4  Women are made for making babies and cooking d...     1.0"
      ]
     },
     "execution_count": 3,
     "metadata": {},
     "output_type": "execute_result"
    }
   ],
   "source": [
    "binary_data.head(5)"
   ]
  },
  {
   "cell_type": "code",
   "execution_count": 39,
   "metadata": {},
   "outputs": [
    {
     "data": {
      "text/html": [
       "<div>\n",
       "<style scoped>\n",
       "    .dataframe tbody tr th:only-of-type {\n",
       "        vertical-align: middle;\n",
       "    }\n",
       "\n",
       "    .dataframe tbody tr th {\n",
       "        vertical-align: top;\n",
       "    }\n",
       "\n",
       "    .dataframe thead th {\n",
       "        text-align: right;\n",
       "    }\n",
       "</style>\n",
       "<table border=\"1\" class=\"dataframe\">\n",
       "  <thead>\n",
       "    <tr style=\"text-align: right;\">\n",
       "      <th></th>\n",
       "      <th>comment</th>\n",
       "      <th>violence</th>\n",
       "      <th>directed_vs_generalized</th>\n",
       "      <th>gender</th>\n",
       "      <th>race</th>\n",
       "      <th>national_origin</th>\n",
       "      <th>disability</th>\n",
       "      <th>religion</th>\n",
       "      <th>sexual_orientation</th>\n",
       "    </tr>\n",
       "  </thead>\n",
       "  <tbody>\n",
       "    <tr>\n",
       "      <th>0</th>\n",
       "      <td>You should know women's sports are a joke</td>\n",
       "      <td>0.000000</td>\n",
       "      <td>0.000000</td>\n",
       "      <td>1.000000</td>\n",
       "      <td>0.000000</td>\n",
       "      <td>0.000000</td>\n",
       "      <td>0.000000</td>\n",
       "      <td>0.000000</td>\n",
       "      <td>0</td>\n",
       "    </tr>\n",
       "    <tr>\n",
       "      <th>1</th>\n",
       "      <td>You look like Sloth with deeper Down’s syndrome</td>\n",
       "      <td>0.000000</td>\n",
       "      <td>0.833333</td>\n",
       "      <td>0.000000</td>\n",
       "      <td>0.000000</td>\n",
       "      <td>0.000000</td>\n",
       "      <td>1.000000</td>\n",
       "      <td>0.000000</td>\n",
       "      <td>0</td>\n",
       "    </tr>\n",
       "    <tr>\n",
       "      <th>2</th>\n",
       "      <td>You look like Russian and speak like Indian. B...</td>\n",
       "      <td>1.000000</td>\n",
       "      <td>0.500000</td>\n",
       "      <td>0.142857</td>\n",
       "      <td>0.142857</td>\n",
       "      <td>0.714286</td>\n",
       "      <td>0.000000</td>\n",
       "      <td>0.000000</td>\n",
       "      <td>0</td>\n",
       "    </tr>\n",
       "    <tr>\n",
       "      <th>3</th>\n",
       "      <td>Women deserve to be abused, I guess.</td>\n",
       "      <td>0.666667</td>\n",
       "      <td>0.166667</td>\n",
       "      <td>1.000000</td>\n",
       "      <td>0.000000</td>\n",
       "      <td>0.000000</td>\n",
       "      <td>0.000000</td>\n",
       "      <td>0.000000</td>\n",
       "      <td>0</td>\n",
       "    </tr>\n",
       "    <tr>\n",
       "      <th>4</th>\n",
       "      <td>Women are made for making babies and cooking d...</td>\n",
       "      <td>0.000000</td>\n",
       "      <td>0.000000</td>\n",
       "      <td>1.000000</td>\n",
       "      <td>0.000000</td>\n",
       "      <td>0.000000</td>\n",
       "      <td>0.000000</td>\n",
       "      <td>0.000000</td>\n",
       "      <td>0</td>\n",
       "    </tr>\n",
       "    <tr>\n",
       "      <th>...</th>\n",
       "      <td>...</td>\n",
       "      <td>...</td>\n",
       "      <td>...</td>\n",
       "      <td>...</td>\n",
       "      <td>...</td>\n",
       "      <td>...</td>\n",
       "      <td>...</td>\n",
       "      <td>...</td>\n",
       "      <td>...</td>\n",
       "    </tr>\n",
       "    <tr>\n",
       "      <th>428</th>\n",
       "      <td>All people are fucked up because of these quee...</td>\n",
       "      <td>0.000000</td>\n",
       "      <td>0.000000</td>\n",
       "      <td>0.571429</td>\n",
       "      <td>0.000000</td>\n",
       "      <td>0.000000</td>\n",
       "      <td>0.000000</td>\n",
       "      <td>0.000000</td>\n",
       "      <td>0.571428571</td>\n",
       "    </tr>\n",
       "    <tr>\n",
       "      <th>429</th>\n",
       "      <td>Actually THIS WEIRD PEOPLE are HARMFUL! They n...</td>\n",
       "      <td>0.000000</td>\n",
       "      <td>1.000000</td>\n",
       "      <td>0.000000</td>\n",
       "      <td>0.000000</td>\n",
       "      <td>0.333333</td>\n",
       "      <td>0.666667</td>\n",
       "      <td>0.000000</td>\n",
       "      <td>0</td>\n",
       "    </tr>\n",
       "    <tr>\n",
       "      <th>430</th>\n",
       "      <td>ABU DA BI ABA DU BA BA HAMUD! See? I’m an arab...</td>\n",
       "      <td>0.000000</td>\n",
       "      <td>0.000000</td>\n",
       "      <td>0.000000</td>\n",
       "      <td>0.285714</td>\n",
       "      <td>0.000000</td>\n",
       "      <td>0.000000</td>\n",
       "      <td>0.857143</td>\n",
       "      <td>0</td>\n",
       "    </tr>\n",
       "    <tr>\n",
       "      <th>431</th>\n",
       "      <td>a homo? so you fuck your brother instead of yo...</td>\n",
       "      <td>0.000000</td>\n",
       "      <td>0.666667</td>\n",
       "      <td>0.000000</td>\n",
       "      <td>0.000000</td>\n",
       "      <td>0.000000</td>\n",
       "      <td>0.000000</td>\n",
       "      <td>0.000000</td>\n",
       "      <td>1</td>\n",
       "    </tr>\n",
       "    <tr>\n",
       "      <th>432</th>\n",
       "      <td>(((They))) will be chased out of every white c...</td>\n",
       "      <td>0.333333</td>\n",
       "      <td>0.000000</td>\n",
       "      <td>0.000000</td>\n",
       "      <td>0.666667</td>\n",
       "      <td>0.000000</td>\n",
       "      <td>0.000000</td>\n",
       "      <td>0.333333</td>\n",
       "      <td>0</td>\n",
       "    </tr>\n",
       "  </tbody>\n",
       "</table>\n",
       "<p>433 rows × 9 columns</p>\n",
       "</div>"
      ],
      "text/plain": [
       "                                               comment  violence  \\\n",
       "0            You should know women's sports are a joke  0.000000   \n",
       "1      You look like Sloth with deeper Down’s syndrome  0.000000   \n",
       "2    You look like Russian and speak like Indian. B...  1.000000   \n",
       "3                 Women deserve to be abused, I guess.  0.666667   \n",
       "4    Women are made for making babies and cooking d...  0.000000   \n",
       "..                                                 ...       ...   \n",
       "428  All people are fucked up because of these quee...  0.000000   \n",
       "429  Actually THIS WEIRD PEOPLE are HARMFUL! They n...  0.000000   \n",
       "430  ABU DA BI ABA DU BA BA HAMUD! See? I’m an arab...  0.000000   \n",
       "431  a homo? so you fuck your brother instead of yo...  0.000000   \n",
       "432  (((They))) will be chased out of every white c...  0.333333   \n",
       "\n",
       "     directed_vs_generalized    gender      race  national_origin  disability  \\\n",
       "0                   0.000000  1.000000  0.000000         0.000000    0.000000   \n",
       "1                   0.833333  0.000000  0.000000         0.000000    1.000000   \n",
       "2                   0.500000  0.142857  0.142857         0.714286    0.000000   \n",
       "3                   0.166667  1.000000  0.000000         0.000000    0.000000   \n",
       "4                   0.000000  1.000000  0.000000         0.000000    0.000000   \n",
       "..                       ...       ...       ...              ...         ...   \n",
       "428                 0.000000  0.571429  0.000000         0.000000    0.000000   \n",
       "429                 1.000000  0.000000  0.000000         0.333333    0.666667   \n",
       "430                 0.000000  0.000000  0.285714         0.000000    0.000000   \n",
       "431                 0.666667  0.000000  0.000000         0.000000    0.000000   \n",
       "432                 0.000000  0.000000  0.666667         0.000000    0.000000   \n",
       "\n",
       "     religion sexual_orientation  \n",
       "0    0.000000                  0  \n",
       "1    0.000000                  0  \n",
       "2    0.000000                  0  \n",
       "3    0.000000                  0  \n",
       "4    0.000000                  0  \n",
       "..        ...                ...  \n",
       "428  0.000000        0.571428571  \n",
       "429  0.000000                  0  \n",
       "430  0.857143                  0  \n",
       "431  0.000000                  1  \n",
       "432  0.333333                  0  \n",
       "\n",
       "[433 rows x 9 columns]"
      ]
     },
     "execution_count": 39,
     "metadata": {},
     "output_type": "execute_result"
    }
   ],
   "source": [
    "multilabel_data"
   ]
  },
  {
   "cell_type": "code",
   "execution_count": 21,
   "metadata": {},
   "outputs": [
    {
     "data": {
      "text/plain": [
       "comment                     object\n",
       "violence                   float64\n",
       "directed_vs_generalized    float64\n",
       "gender                     float64\n",
       "race                       float64\n",
       "national_origin            float64\n",
       "disability                 float64\n",
       "religion                   float64\n",
       "sexual_orientation          object\n",
       "dtype: object"
      ]
     },
     "execution_count": 21,
     "metadata": {},
     "output_type": "execute_result"
    }
   ],
   "source": [
    "#check dtypes\n",
    "binary_data.dtypes\n",
    "multilabel_data.dtypes"
   ]
  },
  {
   "cell_type": "code",
   "execution_count": 9,
   "metadata": {},
   "outputs": [
    {
     "data": {
      "text/plain": [
       "Index(['comment', 'violence', 'directed_vs_generalized', 'gender', 'race',\n",
       "       'national_origin', 'disability', 'religion',\n",
       "       'sexual_orientation,,,,,,,,,,'],\n",
       "      dtype='object')"
      ]
     },
     "execution_count": 9,
     "metadata": {},
     "output_type": "execute_result"
    }
   ],
   "source": [
    "multilabel_data.columns"
   ]
  },
  {
   "cell_type": "code",
   "execution_count": 15,
   "metadata": {},
   "outputs": [],
   "source": [
    "#remname the headache\n",
    "multilabel_data.rename(columns={'sexual_orientation,,,,,,,,,,':'sexual_orientation'}, inplace=True)"
   ]
  },
  {
   "cell_type": "code",
   "execution_count": 16,
   "metadata": {},
   "outputs": [
    {
     "data": {
      "text/plain": [
       "Index(['comment', 'violence', 'directed_vs_generalized', 'gender', 'race',\n",
       "       'national_origin', 'disability', 'religion', 'sexual_orientation'],\n",
       "      dtype='object')"
      ]
     },
     "execution_count": 16,
     "metadata": {},
     "output_type": "execute_result"
    }
   ],
   "source": [
    "multilabel_data.columns"
   ]
  },
  {
   "cell_type": "code",
   "execution_count": 18,
   "metadata": {},
   "outputs": [],
   "source": [
    "multilabel_data['sexual_orientation'] = multilabel_data['sexual_orientation'].str.replace(',', '')"
   ]
  },
  {
   "cell_type": "code",
   "execution_count": 35,
   "metadata": {},
   "outputs": [
    {
     "data": {
      "text/plain": [
       "isHate\n",
       "0.000000    354\n",
       "1.000000    163\n",
       "0.166667    106\n",
       "0.833333    100\n",
       "0.333333     80\n",
       "0.500000     74\n",
       "0.666667     70\n",
       "0.250000      6\n",
       "0.750000      6\n",
       "0.857143      3\n",
       "0.018868      2\n",
       "0.400000      2\n",
       "0.903846      2\n",
       "0.846154      1\n",
       "0.966667      1\n",
       "0.016393      1\n",
       "0.973333      1\n",
       "0.026316      1\n",
       "0.029851      1\n",
       "0.030303      1\n",
       "0.031746      1\n",
       "0.037736      1\n",
       "0.038961      1\n",
       "0.090909      1\n",
       "0.103448      1\n",
       "0.111111      1\n",
       "0.152542      1\n",
       "0.160714      1\n",
       "0.200000      1\n",
       "0.849057      1\n",
       "0.954545      1\n",
       "0.296875      1\n",
       "0.302326      1\n",
       "0.945455      1\n",
       "0.978261      1\n",
       "0.983871      1\n",
       "0.530612      1\n",
       "0.603448      1\n",
       "0.937500      1\n",
       "0.678571      1\n",
       "0.722222      1\n",
       "0.821429      1\n",
       "0.983607      1\n",
       "Name: count, dtype: int64"
      ]
     },
     "execution_count": 35,
     "metadata": {},
     "output_type": "execute_result"
    }
   ],
   "source": [
    "binary_data['isHate'].value_counts()"
   ]
  },
  {
   "cell_type": "code",
   "execution_count": 34,
   "metadata": {},
   "outputs": [
    {
     "name": "stdout",
     "output_type": "stream",
     "text": [
      "isHate\n",
      "0.018868    2\n",
      "Name: count, dtype: int64\n"
     ]
    }
   ],
   "source": [
    "# Define a tolerance level\n",
    "tolerance = 1e-6  # For example, 1e-6 (0.000001)\n",
    "\n",
    "# Filter the DataFrame with a tolerance level\n",
    "filtered_data = binary_data[(binary_data['isHate'] >= 0.018868 - tolerance) & \n",
    "                            (binary_data['isHate'] <= 0.018868 + tolerance)]\n",
    "\n",
    "# Get the value counts of the filtered data\n",
    "value_counts = filtered_data['isHate'].value_counts()\n",
    "print(value_counts)\n"
   ]
  },
  {
   "cell_type": "code",
   "execution_count": 31,
   "metadata": {},
   "outputs": [
    {
     "data": {
      "text/plain": [
       "religion\n",
       "0.000000    332\n",
       "1.000000     39\n",
       "0.666667      8\n",
       "0.833333      6\n",
       "0.750000      5\n",
       "0.857143      5\n",
       "0.500000      4\n",
       "0.600000      3\n",
       "0.285714      2\n",
       "0.642857      2\n",
       "0.400000      2\n",
       "0.333333      2\n",
       "0.800000      2\n",
       "0.250000      2\n",
       "0.444444      1\n",
       "0.109091      1\n",
       "0.571429      1\n",
       "0.829231      1\n",
       "0.428571      1\n",
       "0.214286      1\n",
       "0.380952      1\n",
       "0.720000      1\n",
       "0.142857      1\n",
       "0.685714      1\n",
       "0.342857      1\n",
       "0.171429      1\n",
       "0.514286      1\n",
       "0.618648      1\n",
       "0.166667      1\n",
       "0.781841      1\n",
       "Name: count, dtype: int64"
      ]
     },
     "execution_count": 31,
     "metadata": {},
     "output_type": "execute_result"
    }
   ],
   "source": [
    "multilabel_data['religion'].value_counts()"
   ]
  },
  {
   "cell_type": "code",
   "execution_count": 40,
   "metadata": {},
   "outputs": [
    {
     "data": {
      "text/plain": [
       "comment                    0\n",
       "violence                   3\n",
       "directed_vs_generalized    3\n",
       "gender                     3\n",
       "race                       3\n",
       "national_origin            3\n",
       "disability                 3\n",
       "religion                   3\n",
       "sexual_orientation         3\n",
       "dtype: int64"
      ]
     },
     "execution_count": 40,
     "metadata": {},
     "output_type": "execute_result"
    }
   ],
   "source": [
    "#counting the null values \n",
    "multilabel_data.isna().sum()"
   ]
  },
  {
   "cell_type": "code",
   "execution_count": 47,
   "metadata": {},
   "outputs": [
    {
     "data": {
      "text/plain": [
       "0      False\n",
       "1      False\n",
       "2      False\n",
       "3      False\n",
       "4       True\n",
       "       ...  \n",
       "428    False\n",
       "429     True\n",
       "430     True\n",
       "431     True\n",
       "432    False\n",
       "Length: 433, dtype: bool"
      ]
     },
     "execution_count": 47,
     "metadata": {},
     "output_type": "execute_result"
    }
   ],
   "source": [
    "#check for duplicated\n",
    "multilabel_data.duplicated(subset=['directed_vs_generalized', 'gender', 'race']) "
   ]
  },
  {
   "cell_type": "code",
   "execution_count": 43,
   "metadata": {},
   "outputs": [
    {
     "data": {
      "text/plain": [
       "Index(['comment', 'violence', 'directed_vs_generalized', 'gender', 'race',\n",
       "       'national_origin', 'disability', 'religion', 'sexual_orientation'],\n",
       "      dtype='object')"
      ]
     },
     "execution_count": 43,
     "metadata": {},
     "output_type": "execute_result"
    }
   ],
   "source": [
    "multilabel_data.columns"
   ]
  },
  {
   "cell_type": "code",
   "execution_count": 71,
   "metadata": {},
   "outputs": [],
   "source": [
    "#building dataset for the tast\n",
    "sexist = pd.DataFrame(multilabel_data[multilabel_data['gender']>=.5]['comment'])\n"
   ]
  },
  {
   "cell_type": "code",
   "execution_count": 72,
   "metadata": {},
   "outputs": [],
   "source": [
    "racist = pd.DataFrame(multilabel_data[multilabel_data['race']>= .5]['comment'])"
   ]
  },
  {
   "cell_type": "code",
   "execution_count": 73,
   "metadata": {},
   "outputs": [],
   "source": [
    "not_hate = binary_data[binary_data['isHate']==0]"
   ]
  },
  {
   "cell_type": "code",
   "execution_count": 74,
   "metadata": {},
   "outputs": [],
   "source": [
    "sexist['category'] = 'sexist'"
   ]
  },
  {
   "cell_type": "code",
   "execution_count": 76,
   "metadata": {},
   "outputs": [],
   "source": [
    "racist['category'] = 'racist'"
   ]
  },
  {
   "cell_type": "code",
   "execution_count": 78,
   "metadata": {},
   "outputs": [],
   "source": [
    "comments = pd.concat([sexist, racist])"
   ]
  },
  {
   "cell_type": "code",
   "execution_count": 81,
   "metadata": {},
   "outputs": [
    {
     "data": {
      "text/html": [
       "<div>\n",
       "<style scoped>\n",
       "    .dataframe tbody tr th:only-of-type {\n",
       "        vertical-align: middle;\n",
       "    }\n",
       "\n",
       "    .dataframe tbody tr th {\n",
       "        vertical-align: top;\n",
       "    }\n",
       "\n",
       "    .dataframe thead th {\n",
       "        text-align: right;\n",
       "    }\n",
       "</style>\n",
       "<table border=\"1\" class=\"dataframe\">\n",
       "  <thead>\n",
       "    <tr style=\"text-align: right;\">\n",
       "      <th></th>\n",
       "      <th>comment</th>\n",
       "      <th>category</th>\n",
       "    </tr>\n",
       "  </thead>\n",
       "  <tbody>\n",
       "    <tr>\n",
       "      <th>0</th>\n",
       "      <td>You should know women's sports are a joke</td>\n",
       "      <td>sexist</td>\n",
       "    </tr>\n",
       "    <tr>\n",
       "      <th>1</th>\n",
       "      <td>Women deserve to be abused, I guess.</td>\n",
       "      <td>sexist</td>\n",
       "    </tr>\n",
       "    <tr>\n",
       "      <th>2</th>\n",
       "      <td>Women are made for making babies and cooking d...</td>\n",
       "      <td>sexist</td>\n",
       "    </tr>\n",
       "    <tr>\n",
       "      <th>3</th>\n",
       "      <td>What about a global massacre of men? Pussiezzz...</td>\n",
       "      <td>sexist</td>\n",
       "    </tr>\n",
       "    <tr>\n",
       "      <th>4</th>\n",
       "      <td>We men enjoy the reproductive rights of paying...</td>\n",
       "      <td>sexist</td>\n",
       "    </tr>\n",
       "    <tr>\n",
       "      <th>...</th>\n",
       "      <td>...</td>\n",
       "      <td>...</td>\n",
       "    </tr>\n",
       "    <tr>\n",
       "      <th>155</th>\n",
       "      <td>It's so sick and sad that young people will th...</td>\n",
       "      <td>racist</td>\n",
       "    </tr>\n",
       "    <tr>\n",
       "      <th>156</th>\n",
       "      <td>I guess God is white....</td>\n",
       "      <td>racist</td>\n",
       "    </tr>\n",
       "    <tr>\n",
       "      <th>157</th>\n",
       "      <td>Go bleach yourself black pussy doll and then c...</td>\n",
       "      <td>racist</td>\n",
       "    </tr>\n",
       "    <tr>\n",
       "      <th>158</th>\n",
       "      <td>Believe me, whites are superior in every way t...</td>\n",
       "      <td>racist</td>\n",
       "    </tr>\n",
       "    <tr>\n",
       "      <th>159</th>\n",
       "      <td>(((They))) will be chased out of every white c...</td>\n",
       "      <td>racist</td>\n",
       "    </tr>\n",
       "  </tbody>\n",
       "</table>\n",
       "<p>160 rows × 2 columns</p>\n",
       "</div>"
      ],
      "text/plain": [
       "                                               comment category\n",
       "0            You should know women's sports are a joke   sexist\n",
       "1                 Women deserve to be abused, I guess.   sexist\n",
       "2    Women are made for making babies and cooking d...   sexist\n",
       "3    What about a global massacre of men? Pussiezzz...   sexist\n",
       "4    We men enjoy the reproductive rights of paying...   sexist\n",
       "..                                                 ...      ...\n",
       "155  It's so sick and sad that young people will th...   racist\n",
       "156                          I guess God is white....    racist\n",
       "157  Go bleach yourself black pussy doll and then c...   racist\n",
       "158  Believe me, whites are superior in every way t...   racist\n",
       "159  (((They))) will be chased out of every white c...   racist\n",
       "\n",
       "[160 rows x 2 columns]"
      ]
     },
     "execution_count": 81,
     "metadata": {},
     "output_type": "execute_result"
    }
   ],
   "source": [
    "comments.reset_index(drop=True)"
   ]
  },
  {
   "cell_type": "code",
   "execution_count": null,
   "metadata": {},
   "outputs": [],
   "source": []
  }
 ],
 "metadata": {
  "kernelspec": {
   "display_name": "ali-ml",
   "language": "python",
   "name": "python3"
  },
  "language_info": {
   "codemirror_mode": {
    "name": "ipython",
    "version": 3
   },
   "file_extension": ".py",
   "mimetype": "text/x-python",
   "name": "python",
   "nbconvert_exporter": "python",
   "pygments_lexer": "ipython3",
   "version": "3.10.12"
  }
 },
 "nbformat": 4,
 "nbformat_minor": 2
}
